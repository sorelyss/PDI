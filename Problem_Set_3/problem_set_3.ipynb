{
 "cells": [
  {
   "cell_type": "markdown",
   "metadata": {},
   "source": [
    "# <center>Digital Image Processing - Problem Set 3</center>"
   ]
  },
  {
   "cell_type": "markdown",
   "metadata": {},
   "source": [
    "### Student Names:"
   ]
  },
  {
   "cell_type": "markdown",
   "metadata": {},
   "source": [
    "### Instructions"
   ]
  },
  {
   "cell_type": "markdown",
   "metadata": {},
   "source": [
    "This Problem Set covers the topics of frequency domain filtering and color image processing.<br>\n",
    "\n",
    "Your solutions to the following problems should include commented source code and a short description of each function. You should test your functions with several input images, besides the ones provided here. Include the input and output images that you used for experimentation. Analyze your results. If you discover something interesting, let us know!"
   ]
  },
  {
   "cell_type": "code",
   "execution_count": 2,
   "metadata": {},
   "outputs": [],
   "source": [
    "# Import all the libraries needed\n",
    "from os import listdir, path\n",
    "import cv2\n",
    "import numpy as np\n",
    "import matplotlib.pyplot as plt\n",
    "%matplotlib inline\n",
    "# Get all the filenames in the folder images\n",
    "#filenames = listdir('images')"
   ]
  },
  {
   "cell_type": "markdown",
   "metadata": {},
   "source": [
    "### Problem 1"
   ]
  },
  {
   "cell_type": "markdown",
   "metadata": {},
   "source": [
    "Visualize the Fourier spectrum of an image. Write a function that visualizes the spectrum of an input gray-scale image. The function should perform the following steps:\n",
    "\n",
    "1. Compute the FFT of the input image using the FFT function <tt>numpy.fft.fft2</tt>.\n",
    "2. Shift the transform to center the origin in the middle of the image using <tt>numpy.fft.fftshift</tt>.\n",
    "3. The Fourier transform contains complex numbers, so we usually analyze its phase and spectrum components. Write commands that compute the Fourier spectrum from the shifted Fourier transform.\n",
    "4. The resulting spectrum is difficult to visualize if plotted directly. Instead, we usually apply a logarithmic intensity transform to the spectrum before visualizing. Use the <tt>numpy.log</tt> function to accomplish this.\n",
    "5. Plot the modified spectrum.\n",
    "\n",
    "Test your function by applying it to the images <tt>face.png</tt>, <tt>blown_ic.png</tt>, <tt>test_pattern_blurring_orig.png</tt>, <tt>translated_rectangle.png</tt> and <tt>rectangle.png</tt>.\n",
    "\n",
    "Please comment your results."
   ]
  },
  {
   "cell_type": "markdown",
   "metadata": {},
   "source": [
    "### Problem 2"
   ]
  },
  {
   "cell_type": "markdown",
   "metadata": {},
   "source": [
    "Frequency domain filtering. Write a PYTHON function that performs high-frequency emphasis (hfe) filtering. Recall that an hfe filter is defined as:\n",
    "\\begin{equation}\n",
    "H_{hfe}(u,v) = a + b \\cdot H_{hp}(u,v)\n",
    "\\end{equation}\n",
    "where $a$ is the offset, $b$ is the high-frequency amplification and $H_{hp}$ is the transfer function of a high-pass filter. Your function should be based on a second-order high-pass Butterworth filter with a cut-off frequency $D_0$, which is given by:\n",
    "\\begin{equation}\n",
    "H_{hp}(u,v) = \\frac{1}{1 + \\left[\\frac{D_0}{D(u,v)}\\right]^{2n}}.\n",
    "\\end{equation}\n",
    "<b>Note. </b> $D(u,v)$ measures the Euclidean distance from the point $(u,v)$ to the center of the frequency plane.\n",
    "\n",
    "Use your function and filters on the image <tt>chest.jpg</tt> to reproduce the image enhancement illustrated below.\n",
    "\n",
    "<img src=\"files/images/chest.jpg\"/ width=200> <img src=\"files/images/out.png\"/width=200>\n",
    "\n",
    "The outline of the process is the following:\n",
    "\n",
    "1. Create a high-pass Butterworth filter with a frequency domain dimension of 2 times the size of the input image. Plot the filter image.\n",
    "2. Compute the FFT of the input image using the function <tt>numpy.fft.fft2</tt>. The FFT should have frequency domain dimensions equal to the dimensions of the filter, which should be set using the input parameters of the <tt>fft2</tt> function. Plot the FFT image.\n",
    "3. Filter the image using the high-pass Butterworth filter. To filter an image in the frequency domain, you should multiply the fourier transform of the image and the frequency response of the filter. To go back to the spatial domain, you need to apply the inverse FFT and take the real component of the resut. Plot the resulting image.\n",
    "4. Create a high-frequency emphasis filter based on the Butterworth filter of step 1. Plot the filter image.\n",
    "5. Filter the image using a high-frequency emphasis filter. Plot the resulting image.\n",
    "6. After filtering, you may need to stretch the intensity values of each resulting image to the range [0, 255]. You can achieve this by substracting the minimum intensity value, dividing by the maximum and multiplying the result by 255.\n",
    "7. Apply histogram equalization to the image obtained in the previous step. You should obtain a similar result to that shown above.\n",
    "\n",
    "Use the following parameters for the filters: $a = 0.5$, $b = 2$, $n=2$ and $D_0$ should be set to $5\\%$ of the vertical dimension of the filter.\n",
    "\n",
    "Please comment your results."
   ]
  },
  {
   "cell_type": "markdown",
   "metadata": {},
   "source": [
    "### Problem 3"
   ]
  },
  {
   "cell_type": "markdown",
   "metadata": {},
   "source": [
    "Color spaces. Write a function that converts an image from the RGB color\n",
    "space to HSI color space. Write another function that converts an image from the HSI\n",
    "color space to RGB color space. You should use the homework equations to implement these conversions.\n",
    "\n",
    "When plotting images in the HSI space, you should plot each channel separately, using one image for the H channel, another for the S channel and another for the I channel.\n",
    "\n",
    "Test your function converting images from RGB to HSI and back to RGB."
   ]
  },
  {
   "cell_type": "code",
   "execution_count": null,
   "metadata": {
    "collapsed": true
   },
   "outputs": [],
   "source": [
    "def rbg2hsi(img):\n",
    "    out = img\n",
    "    return out\n",
    "\n",
    "image"
   ]
  },
  {
   "cell_type": "markdown",
   "metadata": {},
   "source": [
    "### Problem 4"
   ]
  },
  {
   "cell_type": "markdown",
   "metadata": {},
   "source": [
    "Manipulating color images. Write a function that converts a color image from the RGB to\n",
    "the HSI color space, modifies the ‘I’ channel by applying histogram equalization, and revert\n",
    "back the image to the RGB color space. Apply this function to enhance the image <tt>dark_fountain.jpg</tt>."
   ]
  },
  {
   "cell_type": "markdown",
   "metadata": {},
   "source": [
    "### Problem 5 "
   ]
  },
  {
   "cell_type": "markdown",
   "metadata": {},
   "source": [
    "Manipulating color images. Consider the RGB color image <tt>squares.jpg</tt>, where the\n",
    "squares are pure red, green and blue.\n",
    "\n",
    "<img src=\"files/images/squares.jpg\" width=200 />\n",
    "\n",
    "1. Convert this image to the HSI color space. Blur the H component of the image using a 25x25 averaging mask, and convert it back to RGB. How do you explain the obtained result?\n",
    "2. Repeat, blurring only the saturation component this time. How do you explain the result?\n"
   ]
  },
  {
   "cell_type": "markdown",
   "metadata": {},
   "source": [
    "## Problem 6"
   ]
  },
  {
   "cell_type": "markdown",
   "metadata": {},
   "source": [
    "False color. Write a Python function that produces a false color visualization of\n",
    "the input gray-scale image as follows:\n",
    "\n",
    "1. If the intensity of an input pixel is lower than a threshold $T$, then the color of the corresponding pixel should be blue.\n",
    "2. If the intensity of an input pixel is larger or equal than a threshold $T$, then the color of the corresponding pixel should be yellow.\n",
    "\n",
    "Use your function to reproduce the following result on the image <tt>weld_x-ray.jpg</tt>:\n",
    "\n",
    "<img src=\"files/images/weld_x-ray.jpg\" width=200 /> <img src=\"files/images/Fig6.21(b).jpg\" width=200 /> "
   ]
  },
  {
   "cell_type": "code",
   "execution_count": 69,
   "metadata": {},
   "outputs": [
    {
     "name": "stdout",
     "output_type": "stream",
     "text": [
      "[[212   0   0 ..., 206 203   0]\n",
      " [219 212 212 ..., 219 203 206]\n",
      " [203 219 209 ..., 216 219 203]\n",
      " ..., \n",
      " [212 198 209 ..., 209 197 203]\n",
      " [  0 209   0 ...,   0   0   0]\n",
      " [  0 205   0 ..., 219 219   0]]\n"
     ]
    }
   ],
   "source": [
    "img = cv2.imread(\"weld_x-ray.jpg\", cv2.IMREAD_GRAYSCALE) # Load the image\n",
    "#plt.figure();plt.imshow(img, cmap='gray')\n",
    "T = 220\n",
    "size = img.shape\n",
    "out = np.zeros((size[0],size[1],3), np.uint8)\n",
    "\n",
    "blues = np.where(img<T,img,0)\n",
    "yellows = img - blues\n",
    "\n",
    "#out[:,:,0] = yellows\n",
    "#out[:,:,1] = yellows\n",
    "#out[:,:,2] = blues\n",
    "\n",
    "#print np.argwhere(img<T)\n",
    "print blues\n",
    "#plt.figure();plt.imshow(out)"
   ]
  },
  {
   "cell_type": "markdown",
   "metadata": {},
   "source": [
    "## Problem 7"
   ]
  },
  {
   "cell_type": "markdown",
   "metadata": {},
   "source": [
    "Green screen effects. Write a function that replaces the green background of the image <tt>hiro.jpg</tt> with a background image of your choice.\n",
    "\n",
    "<img src=\"files/images/hiro.jpg\" width=300>"
   ]
  },
  {
   "cell_type": "code",
   "execution_count": null,
   "metadata": {
    "collapsed": true
   },
   "outputs": [],
   "source": []
  }
 ],
 "metadata": {
  "kernelspec": {
   "display_name": "Python 2",
   "language": "python",
   "name": "python2"
  },
  "language_info": {
   "codemirror_mode": {
    "name": "ipython",
    "version": 2
   },
   "file_extension": ".py",
   "mimetype": "text/x-python",
   "name": "python",
   "nbconvert_exporter": "python",
   "pygments_lexer": "ipython2",
   "version": "2.7.13"
  }
 },
 "nbformat": 4,
 "nbformat_minor": 1
}
