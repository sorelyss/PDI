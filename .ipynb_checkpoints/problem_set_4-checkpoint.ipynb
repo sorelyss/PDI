{
 "cells": [
  {
   "cell_type": "markdown",
   "metadata": {
    "deletable": true,
    "editable": true
   },
   "source": [
    "# <center>Digital Image Processing - Problem Set 4</center>"
   ]
  },
  {
   "cell_type": "markdown",
   "metadata": {
    "deletable": true,
    "editable": true
   },
   "source": [
    "### Student Names:"
   ]
  },
  {
   "cell_type": "markdown",
   "metadata": {
    "deletable": true,
    "editable": true
   },
   "source": [
    "### Instructions"
   ]
  },
  {
   "cell_type": "markdown",
   "metadata": {
    "deletable": true,
    "editable": true
   },
   "source": [
    "This Problem Set covers the topics of Morphological operations, Region filling, Canny edge detection, Hough Transform, Thresholding, Watershed segmentation, $k$-means segmentation.<br>\n",
    "\n",
    "Your solutions to the following problems should include commented source code and a short description of each function. You should test your functions with several input images, besides the ones provided here. Include the input and output images that you used for experimentation. Analyze your results. If you discover something interesting, let us know!"
   ]
  },
  {
   "cell_type": "markdown",
   "metadata": {
    "deletable": true,
    "editable": true
   },
   "source": [
    "## Problem 1"
   ]
  },
  {
   "cell_type": "markdown",
   "metadata": {
    "deletable": true,
    "editable": true
   },
   "source": [
    "Write a function that performs the following sequence of morphological operations on a binary image and displays the intermediate and final results.\n",
    "\n",
    "1. Create a square-shaped structuring element of size 3 by 3.\n",
    "2. Erode the input image.\n",
    "3. Dilate the result of b.\n",
    "4. Dilate the result of c.\n",
    "5. Erode the result of d.\n",
    "\n",
    "Write a second function that performs the following operations and displays the intermediate and final results.\n",
    "\n",
    "1. Create a square-shaped structuring element of size 3 by 3.\n",
    "2. Perform opening of the input image.\n",
    "3. Compute the closing of the result from b.\n",
    "\n",
    "Apply both functions to the image <tt>noisy_fingerprint.jpg</tt>. Discuss the differences and similarities between the final results of using both functions.\n"
   ]
  },
  {
   "cell_type": "markdown",
   "metadata": {
    "deletable": true,
    "editable": true
   },
   "source": [
    "## Problem 2"
   ]
  },
  {
   "cell_type": "markdown",
   "metadata": {
    "deletable": true,
    "editable": true
   },
   "source": [
    "Write a function that implements the region filling function discussed in class.\n",
    "In this function you will need to use an interactive plot, so we need to disable <tt>inline</tt> plotting. This can be done with the following code:"
   ]
  },
  {
   "cell_type": "code",
   "execution_count": 1,
   "metadata": {
    "collapsed": false,
    "deletable": true,
    "editable": true
   },
   "outputs": [],
   "source": [
    "%matplotlib qt\n",
    "# wx, gtk, osx or tk\n"
   ]
  },
  {
   "cell_type": "markdown",
   "metadata": {
    "deletable": true,
    "editable": true
   },
   "source": [
    "\n",
    "The algorithm should proceed as follows:\n",
    "\n",
    "1. Open and display the input binary image.\n",
    "2. Using the <tt>plt.ginput</tt> function, specify a pixel within the region that you want to fill. Record the $(x, y)$ coordinate of the selected pixel.\n",
    "3. Generate $X_0$, a binary image whose size is equal to the size of the input image. The pixel at the coordinate selected in the previous step should be set to 1, all other pixels should be set to zero.\n",
    "4. Compute $X_k$ according to the following equation. Repeat until convergence, i.e. $X_k = X_{k-1}$\n",
    "\\begin{equation}\n",
    "X_k=(X_{k-1} ⊕ B) ∩ A^c\n",
    "\\end{equation}\n",
    "\n",
    "5. Compute the union between the final $X_k$ and the original image to fill the region.\n",
    "\n",
    "Apply your function to the image <tt>spheres.jpg</tt> to fill in all the black circles.\n"
   ]
  },
  {
   "cell_type": "code",
   "execution_count": 146,
   "metadata": {
    "collapsed": false,
    "deletable": true,
    "editable": true
   },
   "outputs": [
    {
     "name": "stderr",
     "output_type": "stream",
     "text": [
      "/home/juan/.local/lib/python2.7/site-packages/matplotlib/backend_bases.py:2445: MatplotlibDeprecationWarning: Using default event loop until function specific to this GUI is implemented\n",
      "  warnings.warn(str, mplDeprecation)\n"
     ]
    },
    {
     "name": "stdout",
     "output_type": "stream",
     "text": [
      "False\n",
      "10000\n"
     ]
    },
    {
     "data": {
      "image/png": "[encoded data removed]",
      "text/plain": [
       "<matplotlib.figure.Figure at 0x7f9680f42d50>"
      ]
     },
     "metadata": {},
     "output_type": "display_data"
    },
    {
     "data": {
      "image/png": "[encoded data removed]",
      "text/plain": [
       "<matplotlib.figure.Figure at 0x7f968123c0d0>"
      ]
     },
     "metadata": {},
     "output_type": "display_data"
    },
    {
     "data": {
      "image/png": "[encoded data removed]",
      "text/plain": [
       "<matplotlib.figure.Figure at 0x7f9688566f50>"
      ]
     },
     "metadata": {},
     "output_type": "display_data"
    },
    {
     "data": {
      "image/png": "[encoded data removed]",
      "text/plain": [
       "<matplotlib.figure.Figure at 0x7f9688a717d0>"
      ]
     },
     "metadata": {},
     "output_type": "display_data"
    }
   ],
   "source": [
    "import cv2\n",
    "%matplotlib qt\n",
    "import numpy as np\n",
    "import matplotlib.pyplot as plt\n",
    "import sys\n",
    "np.set_printoptions(threshold='inf')\n",
    "\n",
    "# wx, gtk, osx or tk\n",
    "IMGF = []\n",
    "def reg_filling(src):\n",
    "    plt.figure();\n",
    "    plt.imshow(src,cmap='Greys')\n",
    "    coord= plt.ginput(1)\n",
    "    x= coord[0][0];y=coord[0][1]\n",
    "    X0 = np.zeros((src.shape[0], src.shape[1]))\n",
    "    \n",
    "    for i  in range(src.shape[0]):\n",
    "        for j  in range(src.shape[1]):\n",
    "            if(j==round(y) and i==round(x)):\n",
    "                X0[i][j]=1\n",
    "            else:\n",
    "                X0[i][j]=0\n",
    "   \n",
    "    \n",
    "    A_C= cv2.bitwise_not(src)\n",
    "    A_C = A_C/np.max(A_C)\n",
    "    A_C=cv2.medianBlur(A_C,5)\n",
    "    plt.figure()\n",
    "    plt.imshow(A_C,cmap='Greys')\n",
    "    B = cv2.getStructuringElement(cv2.MORPH_CROSS,(3,3))\n",
    "    #print B\n",
    "    opa =cv2.dilate(X0,B,iterations = 1)\n",
    "    IMGF.append(X0)\n",
    "    IMGF.append(multidim_intersect(opa,A_C))\n",
    "    print (np.all(IMGF[1]==IMGF[0]))\n",
    "    cont = 1\n",
    "    #while(IMGF[cont]!=IMGF[cont-1]):\n",
    "    while(np.any(IMGF[cont]!=IMGF[cont-1]) or cont<10000):\n",
    "        #print(\"aqui\")\n",
    "        cont = cont+1\n",
    "        opa = cv2.dilate(IMGF[cont-1],B,iterations = 1)\n",
    "        IMGF.append(multidim_intersect(opa,A_C))\n",
    "        #print IMGF[cont]\n",
    "    print cont\n",
    "    \n",
    "    plt.figure()\n",
    "    plt.imshow(IMGF[cont],cmap='Greys')\n",
    "    #var = cv2.bitwise_not(255*IMGF[cont])\n",
    "    imgaux = 255*IMGF[cont]\n",
    "    #imgaux = cv2.bitwise_not(imgaux)\n",
    "    imgsal = imgaux|src\n",
    "    plt.figure()\n",
    "    plt.imshow(imgsal,cmap='Greys')\n",
    "            \n",
    "def multidim_intersect(arr1, arr2):\n",
    "    inters = cv2.bitwise_and(arr1.astype(np.uint8),arr2)\n",
    "    return inters\n",
    "\n",
    "src = cv2.imread('spheres.jpg',0)\n",
    "\n",
    "reg_filling(src)"
   ]
  },
  {
   "cell_type": "markdown",
   "metadata": {
    "deletable": true,
    "editable": true
   },
   "source": [
    "## Problem 3"
   ]
  },
  {
   "cell_type": "markdown",
   "metadata": {
    "deletable": true,
    "editable": true
   },
   "source": [
    "Connected component labeling (also known as connected component analysis, blob extraction, region labeling, blob discovery, or region extraction) is an algorithm that uniquely labels connected components. The definition of connected components depends on the type of pixel adjacency used (pixel adjacency is defined and described in the book). In this problem, we will look at how the result of a connected component labeling algorithm changes when using 4-adjacency or 8-adjacency.\n",
    "\n",
    "Write a function, <tt>labelConnectedComponents</tt>, which identifies and labels each connected component in a binary image. The function should take as an input the kind of adjacency to be used (either 4-adjacency or 8-adjacency). The function should also display the resulting connected components as shown below (particular coloring may differ). Apply this function to the images crosses.gif and chessboard.gif. Compare the connected components obtained when using 4-adjacency against those obtained when using 8-adjacency. Please comment your results: are these what you expected?\n",
    "\n",
    "<b>Hint</b>: Use the functions <tt>cv2.findContours</tt> and <tt>cv2.drawContours</tt>. The following Wikipedia article is also a useful reference:\n",
    "http://en.wikipedia.org/wiki/Connected_Component_Labeling\n",
    "\n",
    "<img src=\"files/crosses.png\"/>\n",
    "<img src=\"files/connected.jpg\"/>"
   ]
  },
  {
   "cell_type": "code",
   "execution_count": 119,
   "metadata": {
    "collapsed": false,
    "deletable": true,
    "editable": true
   },
   "outputs": [
    {
     "name": "stdout",
     "output_type": "stream",
     "text": [
      "4:  2\n",
      "4:  1\n"
     ]
    },
    {
     "data": {
      "text/plain": [
       "<matplotlib.text.Text at 0x7fc20f57d510>"
      ]
     },
     "execution_count": 119,
     "metadata": {},
     "output_type": "execute_result"
    },
    {
     "data": {
      "image/png": "[encoded data removed]",
      "text/plain": [
       "<matplotlib.figure.Figure at 0x7fc20d106a50>"
      ]
     },
     "metadata": {},
     "output_type": "display_data"
    },
    {
     "data": {
      "image/png": "[encoded data removed]",
      "text/plain": [
       "<matplotlib.figure.Figure at 0x7fc20dd93210>"
      ]
     },
     "metadata": {},
     "output_type": "display_data"
    },
    {
     "data": {
      "image/png": "[encoded data removed]",
      "text/plain": [
       "<matplotlib.figure.Figure at 0x7fc20e29a350>"
      ]
     },
     "metadata": {},
     "output_type": "display_data"
    }
   ],
   "source": [
    "import cv2\n",
    "import numpy as np\n",
    "import random\n",
    "import matplotlib.pyplot as plt\n",
    "%matplotlib inline\n",
    "\n",
    "def labelConnectedComponents(image, adj):\n",
    "    ret, image2 = cv2.threshold(image,127,255,cv2.THRESH_BINARY) #Aplicar Thresholding\n",
    "    image = cv2.cvtColor(image2, cv2.COLOR_GRAY2BGR) #Convertir a RGB/BGR\n",
    "    if(adj == 8):\n",
    "        '''\n",
    "        contours, hierarchy = cv2.findContours(image2,cv2.RETR_TREE,cv2.CHAIN_APPROX_NONE)\n",
    "        print \"contours: \", len(contours)\n",
    "        cont = 0\n",
    "        for i in range(len(contours)):\n",
    "            cont+= 1\n",
    "            r = random.randint(0,255)\n",
    "            g = random.randint(0,255)\n",
    "            b = random.randint(0,255)\n",
    "            cv2.drawContours(image, contours, i, (b,g,r), thickness=-1)\n",
    "        print \"8: \", cont\n",
    "        '''\n",
    "        h, w = image2.shape #Obtener dimensiones de la imagen\n",
    "        mask = np.zeros((h+2, w+2), np.uint8) #Crear mascaras necesaria para floodfill\n",
    "        mask2 = np.zeros((h+2, w+2), np.uint8)\n",
    "        cont = 0 #Contador de componentes conexas\n",
    "        for i in range(h):\n",
    "            for j in range(w):\n",
    "                if(image2[i,j] == 255): #Si esta en una componente no marcada\n",
    "                    cont+=  1 #Aumentar contador\n",
    "                    r = random.randint(0,255) #Elegir un color aleatoriamente\n",
    "                    g = random.randint(0,255)\n",
    "                    b = random.randint(0,255)\n",
    "                    cv2.floodFill(image, mask,(j,i), (b,g,r), flags = 8) #Realizar floodfill con conectividad 8\n",
    "                    cv2.floodFill(image2, mask2,(j,i), 125, flags = 8) #Marcar la componente\n",
    "        print \"4: \", cont\n",
    "        \n",
    "    elif(adj == 4):\n",
    "        h, w = image2.shape #Obtener dimensiones de la imagen\n",
    "        mask = np.zeros((h+2, w+2), np.uint8) #Crear mascaras necesaria para floodfill\n",
    "        mask2 = np.zeros((h+2, w+2), np.uint8)\n",
    "        cont = 0 #Contador de componentes conexas\n",
    "        for i in range(h):\n",
    "            for j in range(w):\n",
    "                if(image2[i,j] == 255): #Si esta en una componente no marcada\n",
    "                    cont+=  1 #Aumentar contador\n",
    "                    r2 = random.randint(0,255) #Elegir un color aleatoriamente\n",
    "                    g2 = random.randint(0,255)\n",
    "                    b2 = random.randint(0,255)\n",
    "                    cv2.floodFill(image, mask,(j,i), (b2,g2,r2), flags = 4) #Realizar floodfill con conectividad 8\n",
    "                    cv2.floodFill(image2, mask2,(j,i), 125, flags = 4) #Marcar la componente\n",
    "        print \"4: \", cont\n",
    "    return image\n",
    "\n",
    "imag = cv2.imread(\"chessboard.png\", cv2.IMREAD_GRAYSCALE) \n",
    "imag = cv2.imread(\"crosses.png\", cv2.IMREAD_GRAYSCALE)\n",
    "imag = cv2.imread(\"spheres.jpg\", cv2.IMREAD_GRAYSCALE)\n",
    "imag = cv2.imread(\"stack.png\", cv2.IMREAD_GRAYSCALE)\n",
    "plt.figure(); plt.imshow(imag, cmap='gray'); plt.title(\"Original Image\")\n",
    "imag2 = labelConnectedComponents(imag, 4) #Llamada con conectividad 4\n",
    "imag3 = labelConnectedComponents(imag, 8) #Llamada con conectividad 8\n",
    "plt.figure(); plt.imshow(imag2); plt.title(\"Labeled Image (4-connectivity)\")\n",
    "plt.figure(); plt.imshow(imag3); plt.title(\"Labeled Image (8-connectivity)\")"
   ]
  },
  {
   "cell_type": "markdown",
   "metadata": {
    "deletable": true,
    "editable": true
   },
   "source": [
    "## Problem 4"
   ]
  },
  {
   "cell_type": "markdown",
   "metadata": {
    "deletable": true,
    "editable": true
   },
   "source": [
    "The blog ‘Steve on Image Processing’ contains useful information about image processing with MATLAB. One of Steve’s posts talks about using morphological operations to identify characters containing a tall vertical segment. The post is at:\n",
    "http://blogs.mathworks.com/steve/2008/07/14/opening-by-reconstruction/\n",
    "\n",
    "Replicate the results with Python and OpenCV. You may find that the functions <tt>cv2.findContours</tt> and <tt>cv2.floodFill</tt> are useful for this."
   ]
  },
  {
   "cell_type": "code",
   "execution_count": 121,
   "metadata": {
    "collapsed": false,
    "deletable": true,
    "editable": true
   },
   "outputs": [
    {
     "data": {
      "text/plain": [
       "<matplotlib.text.Text at 0x7fc20cc5c810>"
      ]
     },
     "execution_count": 121,
     "metadata": {},
     "output_type": "execute_result"
    },
    {
     "data": {
      "image/png": "[encoded data removed]",
      "text/plain": [
       "<matplotlib.figure.Figure at 0x7fc20d649d50>"
      ]
     },
     "metadata": {},
     "output_type": "display_data"
    },
    {
     "data": {
      "image/png": "[encoded data removed]",
      "text/plain": [
       "<matplotlib.figure.Figure at 0x7fc20d23b090>"
      ]
     },
     "metadata": {},
     "output_type": "display_data"
    },
    {
     "data": {
      "image/png": "[encoded data removed]",
      "text/plain": [
       "<matplotlib.figure.Figure at 0x7fc20ce1ed50>"
      ]
     },
     "metadata": {},
     "output_type": "display_data"
    },
    {
     "data": {
      "image/png": "[encoded data removed]",
      "text/plain": [
       "<matplotlib.figure.Figure at 0x7fc20ce1ed90>"
      ]
     },
     "metadata": {},
     "output_type": "display_data"
    },
    {
     "data": {
      "image/png": "[encoded data removed]",
      "text/plain": [
       "<matplotlib.figure.Figure at 0x7fc20cdb1d10>"
      ]
     },
     "metadata": {},
     "output_type": "display_data"
    }
   ],
   "source": [
    "import cv2\n",
    "import numpy as np\n",
    "import random\n",
    "import matplotlib.pyplot as plt\n",
    "%matplotlib inline\n",
    "\n",
    "def replication(image):\n",
    "    kernel = np.ones((51,1), np.uint8) #Crear el elemento estructurante\n",
    "    erosion = cv2.erode(image, kernel, iterations=1) #Aplicar erosion a la imagen\n",
    "    plt.figure(); plt.imshow(erosion, cmap='gray'); plt.title(\"Eroded Image\") #graficar el resultado\n",
    "    h, w = image.shape #Obtener dimensiones de la imagen\n",
    "    image2 = image.copy() #Copia de la imagen\n",
    "    mask = np.zeros((h+2, w+2), np.uint8) #Crear mascara necesaria para floodfill\n",
    "    for i in range(h):\n",
    "        for j in range(w):\n",
    "            if(erosion[i,j] > 0.5): #Si se detecto un caracter alargado verticalmente\n",
    "                cv2.floodFill(image2, mask,(j,i), 0) #Rellenarlo con negro\n",
    "    image = image - image2 #Restar a la imagen original, la imagen sin los caracteres encontrados\n",
    "    return image2, mask, image\n",
    "\n",
    "imag = cv2.imread(\"steve_blog.png\", cv2.IMREAD_GRAYSCALE)\n",
    "plt.figure(); plt.imshow(imag, cmap='gray'); plt.title(\"Original Image\")\n",
    "imag2, mask, final = replication(imag)\n",
    "plt.figure(); plt.imshow(imag2, cmap='gray'); plt.title(\"Flooded Image\")\n",
    "plt.figure(); plt.imshow(mask, cmap='gray'); plt.title(\"Mask Image\")\n",
    "plt.figure(); plt.imshow(final, cmap='gray'); plt.title(\"Final Result\")"
   ]
  },
  {
   "cell_type": "markdown",
   "metadata": {
    "deletable": true,
    "editable": true
   },
   "source": [
    "## Problem 5 "
   ]
  },
  {
   "cell_type": "markdown",
   "metadata": {
    "deletable": true,
    "editable": true
   },
   "source": [
    "Write a function that detects edges in an image using Canny’s method, which is available in the function <tt>cv2.Canny</tt>.\n",
    "Your function should first smooth the image using a Guassian filter, which you can do with <tt>cv2.GaussianBlur</tt>.\n",
    "Try out Canny's method with different sizes the smoothing kernel and analyze the results.\n",
    "Also, try changing the thresholds in the edge detection process. What are the effects of each parameter?"
   ]
  },
  {
   "cell_type": "markdown",
   "metadata": {
    "deletable": true,
    "editable": true
   },
   "source": [
    "## Problem 6"
   ]
  },
  {
   "cell_type": "markdown",
   "metadata": {
    "deletable": true,
    "editable": true
   },
   "source": [
    "Write a function that uses the Hough Transform algorithm for line detection. You can use the implementation available in OpenCV <tt>cv2.HoughLines</tt> in your function. Note that this function returns lines in the $(\\rho, \\theta)$ space, so you need to perform the appropiate conversions before plotting them.\n",
    "\n",
    "Run the line detection function on an edge map obtained using Canny's method. Display the detected lines on top of the input image. You should use several images for your tests, including <tt>building.jpg</tt>."
   ]
  },
  {
   "cell_type": "markdown",
   "metadata": {
    "deletable": true,
    "editable": true
   },
   "source": [
    "## Problem 7"
   ]
  },
  {
   "cell_type": "markdown",
   "metadata": {
    "deletable": true,
    "editable": true
   },
   "source": [
    "Write a function that implements a simple adaptive thresholding algorithm as described below:\n",
    "\n",
    "1. Select an initial estimate for $T$. A good initial value for $T$ would be equal to the average of the maximum and minimum intensity value of the image.\n",
    "2. Threshold the image using $T$. This produces two groups: $G_1$, with pixels whose intensity is equal or less than $T$; and $G_2$, with pixels whose intensity is greater than $T$.\n",
    "3. Compute the intensity averages $\\mu_1$ and $\\mu_2$ for the pixels in regions $G_1$ and $G_2$.\n",
    "4. Compute a new threshold value\n",
    "\\begin{equation}\n",
    "T=\\frac{\\mu_1 + \\mu_2}{2}\n",
    "\\end{equation}\n",
    "\n",
    "5. Repeat steps 2-4 until the difference in $T$ between successive iterations is less than a predefined parameter $T_0$.\n",
    "\n",
    "Apply your function to the image <tt>fingerprint.jpg</tt>. Analyze your results.\n"
   ]
  },
  {
   "cell_type": "markdown",
   "metadata": {
    "deletable": true,
    "editable": true
   },
   "source": [
    "## Problem 8"
   ]
  },
  {
   "cell_type": "markdown",
   "metadata": {
    "deletable": true,
    "editable": true
   },
   "source": [
    "Write a function that uses the $k$-means algorithm to perform image segmentation using RGB pixel colors as features.\n",
    "Write also a variant of this segmentation approach that uses the H and S components of each pixel represented in the HSI color space. Here, you should use normalized H and S values, so that both variables range between 0 and 1.\n",
    "Apply your functions to the image <tt>mms.jpg</tt>. Select an appropriate value of $k$.\n"
   ]
  }
 ],
 "metadata": {
  "kernelspec": {
   "display_name": "Python 2",
   "language": "python",
   "name": "python2"
  },
  "language_info": {
   "codemirror_mode": {
    "name": "ipython",
    "version": 2
   },
   "file_extension": ".py",
   "mimetype": "text/x-python",
   "name": "python",
   "nbconvert_exporter": "python",
   "pygments_lexer": "ipython2",
   "version": "2.7.12"
  }
 },
 "nbformat": 4,
 "nbformat_minor": 0
}
