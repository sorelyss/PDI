{
 "cells": [
  {
   "cell_type": "code",
   "execution_count": 4,
   "metadata": {
    "collapsed": false,
    "deletable": true,
    "editable": true
   },
   "outputs": [
    {
     "name": "stdout",
     "output_type": "stream",
     "text": [
      "Image size: (256L, 256L)\n",
      "Image size: (538L, 464L)\n",
      "Image size: (1024L, 1024L)\n",
      "Image size: (452L, 374L)\n",
      "Image size: (300L, 300L)\n"
     ]
    },
    {
     "data": {
      "text/plain": [
       "<matplotlib.figure.Figure at 0x4c4ca58>"
      ]
     },
     "metadata": {},
     "output_type": "display_data"
    }
   ],
   "source": [
    "# Import all the libraries needed\n",
    "from os import listdir, path\n",
    "import cv2\n",
    "import numpy as np\n",
    "import matplotlib.pyplot as plt\n",
    "%matplotlib inline\n",
    "\n",
    "filenames = listdir('images')\n",
    "\n",
    "# Load and display an image\n",
    "images = []\n",
    "fig = plt.figure();\n",
    "for i,name in enumerate(filenames):\n",
    "    img = cv2.imread(\"images/\"+name, cv2.IMREAD_GRAYSCALE)\n",
    "    #plt.subplot(231+i); plt.imshow(img, cmap='gray'); plt.title(name);\n",
    "    # Size of the image\n",
    "    print \"Image size: \" + str(img.shape);\n",
    "    # Save a new copy (copied files will be in 'images_copy' folder)\n",
    "    \n",
    "    #cv2.imwrite(\"images_copy/copy_\"+name,img.copy());\n",
    "    images.append(img)\n",
    "#fig.tight_layout()\n",
    "#plt.show()"
   ]
  },
  {
   "cell_type": "code",
   "execution_count": 72,
   "metadata": {
    "collapsed": false,
    "deletable": true,
    "editable": true
   },
   "outputs": [],
   "source": [
    "import functools\n",
    "\n",
    "bwimshow = functools.partial(plt.imshow, vmin=0, vmax=255,cmap=plt.get_cmap('gray'))"
   ]
  },
  {
   "cell_type": "code",
   "execution_count": 70,
   "metadata": {
    "collapsed": false,
    "deletable": true,
    "editable": true
   },
   "outputs": [
    {
     "name": "stdout",
     "output_type": "stream",
     "text": [
      "253\n"
     ]
    }
   ],
   "source": [
    "#for img in images:\n",
    "img = images[0]\n",
    "print np.max(img)\n",
    "#fig = plt.figure();\n",
    "img2 = []\n",
    "for i in range(1,8):\n",
    "    power = np.power(2,i)\n",
    "    img2.append((img/power))\n",
    "    #plt.subplot(3,3,i); \n",
    "    #plt.figure();bwimshow(img2[i-1], cmap='gray'); plt.title(np.max(img2[i-1])); plt.show();\n",
    "    #cv2.imwrite(\"images_copy/copy_\"+str(i)+\".jpg\",img2[i-1].copy());\n",
    "#fig.tight_layout()\n",
    "plt.imsave(\"intento.png\",img2[6], cmap='gray')"
   ]
  },
  {
   "cell_type": "code",
   "execution_count": 52,
   "metadata": {
    "collapsed": false
   },
   "outputs": [
    {
     "name": "stdout",
     "output_type": "stream",
     "text": [
      "[[153 153 153 ..., 153 153 153]\n",
      " [170 153 153 ..., 153 153 153]\n",
      " [153 153 153 ..., 153 153 153]\n",
      " ..., \n",
      " [119 136 119 ..., 136 136 119]\n",
      " [119 119 136 ..., 136 136 119]\n",
      " [119 119 136 ..., 136 136 119]]\n"
     ]
    }
   ],
   "source": [
    "img3 = cv2.imread(\"intento.png\", cv2.IMREAD_GRAYSCALE)\n",
    "#np.set_printoptions(threshold=\"nan\")\n",
    "print img3"
   ]
  },
  {
   "cell_type": "code",
   "execution_count": 76,
   "metadata": {
    "collapsed": false,
    "deletable": true,
    "editable": true
   },
   "outputs": [
    {
     "name": "stdout",
     "output_type": "stream",
     "text": [
      "niveles: 128   step: 2.00787401575\n",
      "niveles: 64   step: 4.04761904762\n",
      "niveles: 32   step: 8.22580645161\n",
      "niveles: 16   step: 17.0\n",
      "niveles: 8   step: 36.4285714286\n",
      "niveles: 4   step: 85.0\n",
      "niveles: 2   step: 255.0\n"
     ]
    }
   ],
   "source": [
    "num_levels = 2**4\n",
    "for i in reversed(range(1,8)):\n",
    "    num_levels = 2**i\n",
    "    step = 255.0 / (num_levels - 1)\n",
    "    print \"niveles:\", num_levels, \"  step:\", step\n",
    "    list_levels = step * np.arange(0,num_levels)\n",
    "    orig_levels = np.arange(0,256)\n",
    "    distance = np.zeros((num_levels, 256))\n",
    "\n",
    "    for level_id in range(0,num_levels):\n",
    "        distance[level_id, :] = abs(list_levels[level_id] - orig_levels)\n",
    "\n",
    "    LUT_quant = list_levels[np.argmin(distance,0)]\n",
    "    LUT_quant = np.uint8(LUT_quant)\n",
    "    img_th = cv2.LUT(img, LUT_quant)\n",
    "    cv2.imwrite(\"images_copy/copy_\"+str(8-i)+\".png\",img_th.copy());\n",
    "#print img_th"
   ]
  },
  {
   "cell_type": "code",
   "execution_count": null,
   "metadata": {
    "collapsed": true,
    "deletable": true,
    "editable": true
   },
   "outputs": [],
   "source": []
  }
 ],
 "metadata": {
  "kernelspec": {
   "display_name": "Python 2",
   "language": "python",
   "name": "python2"
  },
  "language_info": {
   "codemirror_mode": {
    "name": "ipython",
    "version": 2
   },
   "file_extension": ".py",
   "mimetype": "text/x-python",
   "name": "python",
   "nbconvert_exporter": "python",
   "pygments_lexer": "ipython2",
   "version": "2.7.13"
  }
 },
 "nbformat": 4,
 "nbformat_minor": 2
}
