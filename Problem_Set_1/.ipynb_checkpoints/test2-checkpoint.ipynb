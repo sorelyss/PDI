{
 "cells": [
  {
   "cell_type": "code",
   "execution_count": 2,
   "metadata": {
    "collapsed": true,
    "deletable": true,
    "editable": true
   },
   "outputs": [],
   "source": [
    "# Import all the libraries needed\n",
    "from os import listdir, path\n",
    "import cv2\n",
    "import numpy as np\n",
    "import matplotlib.pyplot as plt\n",
    "%matplotlib inline\n",
    "\n",
    "filenames = listdir('images')\n",
    "\n",
    "# Load and display an image\n",
    "images = []\n",
    "for i,name in enumerate(filenames):\n",
    "    img = cv2.imread(\"images/\"+name, cv2.IMREAD_GRAYSCALE)    \n",
    "    #cv2.imwrite(\"images_copy/copy_\"+name,img.copy());\n",
    "    images.append(img)\n",
    "    \n",
    "import functools\n",
    "\n",
    "bwimshow = functools.partial(plt.imshow, vmin=0, vmax=255,cmap=plt.get_cmap('gray'))"
   ]
  },
  {
   "cell_type": "code",
   "execution_count": 21,
   "metadata": {
    "collapsed": false,
    "deletable": true,
    "editable": true
   },
   "outputs": [
    {
     "name": "stdout",
     "output_type": "stream",
     "text": [
      "253\n"
     ]
    }
   ],
   "source": [
    "img = images[0]\n",
    "print np.max(img)\n",
    "img2 = []\n",
    "for i in range(1,8):\n",
    "    power = np.power(2,i)\n",
    "    img2.append((img/power))\n",
    "    #plt.subplot(3,3,i); \n",
    "    #plt.figure();bwimshow(img2[i-1], cmap='gray'); plt.title(np.max(img2[i-1])); plt.show();\n",
    "    #cv2.imwrite(\"images_copy/ver3_\"+str(i)+\".png\",img2[i-1].copy());\n",
    "    #plt.imsave(\"images_copy/ver1_\"+str(i)+\".png\",img2[i-1], cmap='gray')"
   ]
  },
  {
   "cell_type": "code",
   "execution_count": 23,
   "metadata": {
    "collapsed": false,
    "deletable": true,
    "editable": true
   },
   "outputs": [],
   "source": [
    "ver1 = []; ver2 = []; ver3 = []\n",
    "for i in range(1,8):\n",
    "    ver1.append(cv2.imread(\"images_copy/ver1_\"+str(i)+\".png\", cv2.IMREAD_GRAYSCALE))\n",
    "    ver2.append(cv2.imread(\"images_copy/ver2_\"+str(i)+\".png\", cv2.IMREAD_GRAYSCALE))\n",
    "    ver3.append(cv2.imread(\"images_copy/ver3_\"+str(i)+\".png\", cv2.IMREAD_GRAYSCALE))"
   ]
  },
  {
   "cell_type": "code",
   "execution_count": 33,
   "metadata": {
    "collapsed": false
   },
   "outputs": [
    {
     "data": {
      "image/png": "[encoded data removed]",
      "text/plain": [
       "<matplotlib.figure.Figure at 0xbdbe0b8>"
      ]
     },
     "metadata": {},
     "output_type": "display_data"
    }
   ],
   "source": [
    "fig = plt.figure();\n",
    "plt.subplot(2,2,1);plt.hist(img.flatten(),256,[0,256], color = 'r'); plt.title(\"Original\")\n",
    "plt.subplot(2,2,2);plt.hist(ver1[2].flatten(),256,[0,256], color = 'r'); plt.title(\"Version 1(guardando con pyplot)\")\n",
    "plt.subplot(2,2,4);plt.hist(ver2[2].flatten(),256,[0,256], color = 'r'); plt.title(\"Version 2(profesor)\")\n",
    "plt.subplot(2,2,3);plt.hist(ver3[2].flatten(),256,[0,256], color = 'r'); plt.title(\"Version 3(guardando con cv2)\")\n",
    "fig.tight_layout();plt.show()"
   ]
  },
  {
   "cell_type": "code",
   "execution_count": null,
   "metadata": {
    "collapsed": true
   },
   "outputs": [],
   "source": []
  }
 ],
 "metadata": {
  "kernelspec": {
   "display_name": "Python 2",
   "language": "python",
   "name": "python2"
  },
  "language_info": {
   "codemirror_mode": {
    "name": "ipython",
    "version": 2
   },
   "file_extension": ".py",
   "mimetype": "text/x-python",
   "name": "python",
   "nbconvert_exporter": "python",
   "pygments_lexer": "ipython2",
   "version": "2.7.13"
  }
 },
 "nbformat": 4,
 "nbformat_minor": 2
}
